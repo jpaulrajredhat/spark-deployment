{
 "cells": [
  {
   "cell_type": "code",
   "execution_count": 16,
   "id": "0f1b4683-593e-43a0-a229-7fe134171004",
   "metadata": {
    "editable": true,
    "slideshow": {
     "slide_type": ""
    },
    "tags": []
   },
   "outputs": [],
   "source": [
    "# !pip install sqlalchemy\n",
    "# !pip install sqlalchemy-trino\n",
    "\n",
    "from pyspark import SparkConf\n",
    "from pyspark.sql import SparkSession\n",
    "from pyspark.errors import PySparkException\n",
    "from pyspark.sql.types import StructType, StructField, StringType, TimestampType , LongType\n",
    "import socket\n",
    "from sqlalchemy import create_engine, text\n",
    "\n",
    "import os\n",
    "\n",
    "# from sqlalchemy import *\n",
    "# from sqlalchemy.engine import create_engine\n",
    "# from sqlalchemy.schema import *\n",
    "\n",
    "os.environ[\"AWS_REGION\"] = \"us-west-2\"\n",
    "\n",
    "conf = SparkConf() \\\n",
    "    .setAppName(\"spark demo\") \\\n",
    "    .setMaster(\"spark://172.30.128.211:7077\") \\\n",
    "    .set(\"spark.driver.host\", socket.gethostbyname(socket.gethostname()))\\\n",
    "    .set(\"spark.driver.port\", \"10027\") \n",
    "\n",
    "\n",
    "spark = SparkSession.builder.config(conf=conf).enableHiveSupport().getOrCreate()\n"
   ]
  },
  {
   "cell_type": "code",
   "execution_count": 17,
   "id": "24949feb-4f62-4e50-99b7-9e7a089416b0",
   "metadata": {
    "scrolled": true
   },
   "outputs": [
    {
     "name": "stdout",
     "output_type": "stream",
     "text": [
      "('spark.sql.shuffle.partitions', '40')\n",
      "('spark.hadoop.fs.s3a.access.key', 'minioAdmin')\n",
      "('spark.eventLog.enabled', 'true')\n",
      "('spark.app.submitTime', '1732570968360')\n",
      "('spark.hadoop.fs.s3a.path.style.access', 'true')\n",
      "('spark.app.id', 'app-20241125215025-0010')\n",
      "('spark.master', 'spark://172.30.128.211:7077')\n",
      "('spark.sql.catalog.apm.type', 'hive')\n",
      "('spark.app.startTime', '1732571425495')\n",
      "('spark.sql.catalog.apm.s3.path-style-access', 'true')\n",
      "('spark.driver.host', '10.128.5.68')\n",
      "('spark.hadoop.hive.metastore.schema.verification.record.version', 'false')\n",
      "('spark.hadoop.fs.s3a.secret.key', 'minio1234')\n",
      "('spark.serializer.objectStreamReset', '100')\n",
      "('spark.submit.deployMode', 'client')\n",
      "('spark.sql.catalog.apm', 'org.apache.iceberg.spark.SparkCatalog')\n",
      "('spark.sql.catalog.apm.uri', 'thrift://hive-metastore:9083')\n",
      "('spark.eventLog.dir', 's3a://spark-events/logs/')\n",
      "('spark.sql.catalog.apm.io-impl', 'org.apache.iceberg.aws.s3.S3FileIO')\n",
      "('spark.executor.memory', '2g')\n",
      "('spark.hadoop.fs.s3a.endpoint', 'https://minio-api-datamesh-demo.apps.rosa-8grhg.ssnp.p1.openshiftapps.com')\n",
      "('spark.repl.local.jars', 'file:///opt/spark/jars/iceberg-spark-runtime-3.5_2.12-1.5.1.jar,file:///opt/spark/jars/iceberg-aws-bundle-1.5.1.jar')\n",
      "('spark.driver.extraJavaOptions', '-Djava.net.preferIPv6Addresses=false -XX:+IgnoreUnrecognizedVMOptions --add-opens=java.base/java.lang=ALL-UNNAMED --add-opens=java.base/java.lang.invoke=ALL-UNNAMED --add-opens=java.base/java.lang.reflect=ALL-UNNAMED --add-opens=java.base/java.io=ALL-UNNAMED --add-opens=java.base/java.net=ALL-UNNAMED --add-opens=java.base/java.nio=ALL-UNNAMED --add-opens=java.base/java.util=ALL-UNNAMED --add-opens=java.base/java.util.concurrent=ALL-UNNAMED --add-opens=java.base/java.util.concurrent.atomic=ALL-UNNAMED --add-opens=java.base/jdk.internal.ref=ALL-UNNAMED --add-opens=java.base/sun.nio.ch=ALL-UNNAMED --add-opens=java.base/sun.nio.cs=ALL-UNNAMED --add-opens=java.base/sun.security.action=ALL-UNNAMED --add-opens=java.base/sun.util.calendar=ALL-UNNAMED --add-opens=java.security.jgss/sun.security.krb5=ALL-UNNAMED -Djdk.reflect.useDirectMethodHandle=false')\n",
      "('spark.driver.port', '10027')\n",
      "('spark.jars', 'file:///opt/spark/jars/iceberg-spark-runtime-3.5_2.12-1.5.1.jar,file:///opt/spark/jars/iceberg-aws-bundle-1.5.1.jar')\n",
      "('spark.sql.catalog.apm.warehouse', 's3a://datamesh/observability/')\n",
      "('spark.sql.catalog.apm.s3.endpoint', 'https://minio-api-datamesh-demo.apps.rosa-8grhg.ssnp.p1.openshiftapps.com')\n",
      "('spark.executor.id', 'driver')\n",
      "('spark.executor.cores', '2')\n",
      "('spark.app.name', 'spark demo')\n",
      "('spark.sql.extensions', 'org.apache.iceberg.spark.extensions.IcebergSparkSessionExtensions')\n",
      "('spark.hadoop.fs.s3a.impl', 'org.apache.hadoop.fs.s3a.S3AFileSystem')\n",
      "('spark.sql.defaultCatalog', 'apm')\n",
      "('spark.sql.catalogImplementation', 'hive')\n",
      "('spark.rdd.compress', 'True')\n",
      "('spark.sql.storeAssignmentPolicy', 'ANSI')\n",
      "('spark.executor.extraJavaOptions', '-Djava.net.preferIPv6Addresses=false -XX:+IgnoreUnrecognizedVMOptions --add-opens=java.base/java.lang=ALL-UNNAMED --add-opens=java.base/java.lang.invoke=ALL-UNNAMED --add-opens=java.base/java.lang.reflect=ALL-UNNAMED --add-opens=java.base/java.io=ALL-UNNAMED --add-opens=java.base/java.net=ALL-UNNAMED --add-opens=java.base/java.nio=ALL-UNNAMED --add-opens=java.base/java.util=ALL-UNNAMED --add-opens=java.base/java.util.concurrent=ALL-UNNAMED --add-opens=java.base/java.util.concurrent.atomic=ALL-UNNAMED --add-opens=java.base/jdk.internal.ref=ALL-UNNAMED --add-opens=java.base/sun.nio.ch=ALL-UNNAMED --add-opens=java.base/sun.nio.cs=ALL-UNNAMED --add-opens=java.base/sun.security.action=ALL-UNNAMED --add-opens=java.base/sun.util.calendar=ALL-UNNAMED --add-opens=java.security.jgss/sun.security.krb5=ALL-UNNAMED -Djdk.reflect.useDirectMethodHandle=false')\n",
      "('spark.driver.memory', '2g')\n",
      "('spark.submit.pyFiles', '')\n",
      "('spark.hadoop.hive.metastore.schema.verification', 'false')\n",
      "('spark.history.fs.logDirectory', 's3a://spark-events/logs/')\n",
      "('spark.ui.showConsoleProgress', 'true')\n",
      "('spark.app.initial.jar.urls', 'spark://10.128.5.68:10027/jars/iceberg-aws-bundle-1.5.1.jar,spark://10.128.5.68:10027/jars/iceberg-spark-runtime-3.5_2.12-1.5.1.jar')\n"
     ]
    }
   ],
   "source": [
    "\n",
    "\n",
    "# Verify the Spark session configuration\n",
    "for item in spark.sparkContext.getConf().getAll():\n",
    "    print(item)\n"
   ]
  },
  {
   "cell_type": "code",
   "execution_count": 18,
   "id": "997f2d0d-4ddb-49f7-98e6-c9d0ae752faa",
   "metadata": {},
   "outputs": [
    {
     "data": {
      "text/html": [
       "\n",
       "            <div>\n",
       "                <p><b>SparkSession - hive</b></p>\n",
       "                \n",
       "        <div>\n",
       "            <p><b>SparkContext</b></p>\n",
       "\n",
       "            <p><a href=\"http://10.128.5.68:4040\">Spark UI</a></p>\n",
       "\n",
       "            <dl>\n",
       "              <dt>Version</dt>\n",
       "                <dd><code>v3.5.1</code></dd>\n",
       "              <dt>Master</dt>\n",
       "                <dd><code>spark://172.30.128.211:7077</code></dd>\n",
       "              <dt>AppName</dt>\n",
       "                <dd><code>spark demo</code></dd>\n",
       "            </dl>\n",
       "        </div>\n",
       "        \n",
       "            </div>\n",
       "        "
      ],
      "text/plain": [
       "<pyspark.sql.session.SparkSession at 0x7f0036333670>"
      ]
     },
     "execution_count": 18,
     "metadata": {},
     "output_type": "execute_result"
    }
   ],
   "source": [
    "spark"
   ]
  },
  {
   "cell_type": "code",
   "execution_count": 19,
   "id": "ccf4797b-3d72-4cd6-beb5-566086bb5753",
   "metadata": {},
   "outputs": [],
   "source": [
    "emp_data = [\n",
    "    [\"001\",\"101\",\"John Doe\",\"30\",\"Male\",\"50000\",\"2015-01-01\"],\n",
    "    [\"002\",\"101\",\"Jane Smith\",\"25\",\"Female\",\"45000\",\"2016-02-15\"],\n",
    "    [\"003\",\"102\",\"Bob Brown\",\"35\",\"Male\",\"55000\",\"2014-05-01\"],\n",
    "    [\"004\",\"102\",\"Alice Lee\",\"28\",\"Female\",\"48000\",\"2017-09-30\"],\n",
    "    [\"005\",\"103\",\"Jack Chan\",\"40\",\"Male\",\"60000\",\"2013-04-01\"],\n",
    "    [\"006\",\"103\",\"Jill Wong\",\"32\",\"Female\",\"52000\",\"2018-07-01\"],\n",
    "    [\"007\",\"101\",\"James Johnson\",\"42\",\"Male\",\"70000\",\"2012-03-15\"],\n",
    "    [\"008\",\"102\",\"Kate Kim\",\"29\",\"Female\",\"51000\",\"2019-10-01\"],\n",
    "    [\"009\",\"103\",\"Tom Tan\",\"33\",\"Male\",\"58000\",\"2016-06-01\"],\n",
    "    [\"010\",\"104\",\"Lisa Lee\",\"27\",\"Female\",\"47000\",\"2018-08-01\"],\n",
    "    [\"011\",\"104\",\"David Park\",\"38\",\"Male\",\"65000\",\"2015-11-01\"],\n",
    "    [\"012\",\"105\",\"Susan Chen\",\"31\",\"Female\",\"54000\",\"2017-02-15\"],\n",
    "    [\"013\",\"106\",\"Brian Kim\",\"45\",\"Male\",\"75000\",\"2011-07-01\"],\n",
    "    [\"014\",\"107\",\"Emily Lee\",\"26\",\"Female\",\"46000\",\"2019-01-01\"],\n",
    "    [\"015\",\"106\",\"Michael Lee\",\"37\",\"Male\",\"63000\",\"2014-09-30\"],\n",
    "    [\"016\",\"107\",\"Kelly Zhang\",\"30\",\"Female\",\"49000\",\"2018-04-01\"],\n",
    "    [\"017\",\"105\",\"George Wang\",\"34\",\"Male\",\"57000\",\"2016-03-15\"],\n",
    "    [\"018\",\"104\",\"Nancy Liu\",\"29\",\"Female\",\"50000\",\"2017-06-01\"],\n",
    "    [\"019\",\"103\",\"Steven Chen\",\"36\",\"Male\",\"62000\",\"2015-08-01\"],\n",
    "    [\"020\",\"102\",\"Grace Kim\",\"32\",\"Female\",\"53000\",\"2018-11-01\"],\n",
    "    [\"022\",\"108\",\"Jey Paulraj2\",\"32\",\"Female\",\"53000\",\"2018-11-01\"]\n",
    "]\n",
    "\n",
    "emp_schema = \"employee_id string, department_id string, name string, age string, gender string, salary string, hire_date string\""
   ]
  },
  {
   "cell_type": "code",
   "execution_count": 20,
   "id": "bdbd0de1-76db-4df8-bc24-8ce4561b039b",
   "metadata": {},
   "outputs": [
    {
     "name": "stdout",
     "output_type": "stream",
     "text": [
      "Iceberg databae created  1------ \n",
      "current database \n"
     ]
    },
    {
     "name": "stderr",
     "output_type": "stream",
     "text": [
      "                                                                                \r"
     ]
    },
    {
     "name": "stdout",
     "output_type": "stream",
     "text": [
      "list of database [Database(name='default', catalog='apm', description='Default Hive database', locationUri='s3a://pcaf/data'), Database(name='demo', catalog='apm', description=None, locationUri='s3a://pcaf/datamesh/observability/demo'), Database(name='infra_node', catalog='apm', description=None, locationUri='s3a://pcaf/data/infra_node.db'), Database(name='infra_pod', catalog='apm', description=None, locationUri='s3a://pcaf/data/infra_pod.db'), Database(name='observability', catalog='apm', description=None, locationUri='s3a://datamesh/observability/observability.db'), Database(name='pcaf', catalog='apm', description=None, locationUri='s3a://pcaf/'), Database(name='product', catalog='apm', description=None, locationUri='s3a://pcaf/datamesh/prodcut'), Database(name='sustainability_node', catalog='apm', description=None, locationUri='s3a://pcaf/data/sustainability_node.db'), Database(name='sustainability_pod', catalog='apm', description=None, locationUri='s3a://pcaf/data/sustainability_pod.db'), Database(name='wri_gppd', catalog='apm', description=None, locationUri='s3a://pcaf/data/wri_gppd.db')]\n",
      "Iceberg databae created  ------ \n",
      "Iceberg table trace  created ------ \n",
      "Iceberg table 'apm.trace' created successfully.\n"
     ]
    }
   ],
   "source": [
    "\n",
    "\n",
    "try:\n",
    "    # Create Iceberg table using the specified schema and catalog\n",
    "    print(\"Iceberg databae created  1------ \")\n",
    "    print(\"current database\" , spark.catalog.currentDatabase())\n",
    "    print(\"list of database\" , spark.catalog.listDatabases())\n",
    "    spark.sql(\"\"\" CREATE DATABASE IF NOT EXISTS observability  \"\"\")\n",
    "    \n",
    "    # spark.sql(\"create database observability location '/user/data_transform/iceberg_test'\")\n",
    "   \n",
    "    print(\"Iceberg databae created  ------ \")\n",
    "   \n",
    "\n",
    "    spark.sql(\"\"\"\n",
    "        CREATE TABLE IF NOT EXISTS observability.employee (\n",
    "            employee_id string,\n",
    "            department_id string,\n",
    "            name string,\n",
    "            age string,\n",
    "            gender string,\n",
    "            salary string,\n",
    "            hire_date string            \n",
    "        )  USING iceberg  \"\"\")\n",
    "    \n",
    "    print(\"Iceberg table trace  created ------ \")\n",
    "   \n",
    "    print(\"Iceberg table 'apm.trace' created successfully.\")\n",
    "    \n",
    "except Exception as e:\n",
    "    print(\"Error creating Iceberg table:\", str(e))\n",
    "\n",
    " \n"
   ]
  },
  {
   "cell_type": "code",
   "execution_count": 21,
   "id": "5783707a-6857-43ed-903b-473e4a052f3e",
   "metadata": {},
   "outputs": [],
   "source": [
    "emp = spark.createDataFrame(data=emp_data, schema=emp_schema)"
   ]
  },
  {
   "cell_type": "code",
   "execution_count": 22,
   "id": "3dfbc986-ce56-4375-8d93-f9897340564e",
   "metadata": {},
   "outputs": [
    {
     "name": "stderr",
     "output_type": "stream",
     "text": [
      "[Stage 6:=======================================>                   (2 + 1) / 3]\r"
     ]
    },
    {
     "name": "stdout",
     "output_type": "stream",
     "text": [
      "+-----------+-------------+-------------+---+------+------+----------+\n",
      "|employee_id|department_id|         name|age|gender|salary| hire_date|\n",
      "+-----------+-------------+-------------+---+------+------+----------+\n",
      "|        001|          101|     John Doe| 30|  Male| 50000|2015-01-01|\n",
      "|        002|          101|   Jane Smith| 25|Female| 45000|2016-02-15|\n",
      "|        003|          102|    Bob Brown| 35|  Male| 55000|2014-05-01|\n",
      "|        004|          102|    Alice Lee| 28|Female| 48000|2017-09-30|\n",
      "|        005|          103|    Jack Chan| 40|  Male| 60000|2013-04-01|\n",
      "|        006|          103|    Jill Wong| 32|Female| 52000|2018-07-01|\n",
      "|        007|          101|James Johnson| 42|  Male| 70000|2012-03-15|\n",
      "|        008|          102|     Kate Kim| 29|Female| 51000|2019-10-01|\n",
      "|        009|          103|      Tom Tan| 33|  Male| 58000|2016-06-01|\n",
      "|        010|          104|     Lisa Lee| 27|Female| 47000|2018-08-01|\n",
      "|        011|          104|   David Park| 38|  Male| 65000|2015-11-01|\n",
      "|        012|          105|   Susan Chen| 31|Female| 54000|2017-02-15|\n",
      "|        013|          106|    Brian Kim| 45|  Male| 75000|2011-07-01|\n",
      "|        014|          107|    Emily Lee| 26|Female| 46000|2019-01-01|\n",
      "|        015|          106|  Michael Lee| 37|  Male| 63000|2014-09-30|\n",
      "|        016|          107|  Kelly Zhang| 30|Female| 49000|2018-04-01|\n",
      "|        017|          105|  George Wang| 34|  Male| 57000|2016-03-15|\n",
      "|        018|          104|    Nancy Liu| 29|Female| 50000|2017-06-01|\n",
      "|        019|          103|  Steven Chen| 36|  Male| 62000|2015-08-01|\n",
      "|        020|          102|    Grace Kim| 32|Female| 53000|2018-11-01|\n",
      "+-----------+-------------+-------------+---+------+------+----------+\n",
      "only showing top 20 rows\n",
      "\n"
     ]
    },
    {
     "name": "stderr",
     "output_type": "stream",
     "text": [
      "                                                                                \r"
     ]
    }
   ],
   "source": [
    "# Show data (ACTION)\n",
    "\n",
    "emp.show()"
   ]
  },
  {
   "cell_type": "code",
   "execution_count": 23,
   "id": "4c13f5dd-d872-486c-9145-1dc1eb879917",
   "metadata": {},
   "outputs": [
    {
     "name": "stderr",
     "output_type": "stream",
     "text": [
      "24/11/25 21:50:36 WARN ObjectStore: Failed to get database global_temp, returning NoSuchObjectException\n",
      "                                                                                \r"
     ]
    }
   ],
   "source": [
    "emp.writeTo(\"observability.employee\").append()\n",
    "# emp.write.format(\"iceberg\").mode(\"append\").save(\"observability.db.employee\")"
   ]
  },
  {
   "cell_type": "code",
   "execution_count": 24,
   "id": "8555caa5-3ac9-4f02-8476-00c2791279d3",
   "metadata": {
    "scrolled": true
   },
   "outputs": [
    {
     "name": "stdout",
     "output_type": "stream",
     "text": [
      "+-----------+-------------+-------------+---+------+------+----------+\n",
      "|employee_id|department_id|         name|age|gender|salary| hire_date|\n",
      "+-----------+-------------+-------------+---+------+------+----------+\n",
      "|        001|          101|     John Doe| 30|  Male| 50000|2015-01-01|\n",
      "|        002|          101|   Jane Smith| 25|Female| 45000|2016-02-15|\n",
      "|        003|          102|    Bob Brown| 35|  Male| 55000|2014-05-01|\n",
      "|        004|          102|    Alice Lee| 28|Female| 48000|2017-09-30|\n",
      "|        005|          103|    Jack Chan| 40|  Male| 60000|2013-04-01|\n",
      "|        006|          103|    Jill Wong| 32|Female| 52000|2018-07-01|\n",
      "|        007|          101|James Johnson| 42|  Male| 70000|2012-03-15|\n",
      "|        008|          102|     Kate Kim| 29|Female| 51000|2019-10-01|\n",
      "|        009|          103|      Tom Tan| 33|  Male| 58000|2016-06-01|\n",
      "|        010|          104|     Lisa Lee| 27|Female| 47000|2018-08-01|\n",
      "|        011|          104|   David Park| 38|  Male| 65000|2015-11-01|\n",
      "|        012|          105|   Susan Chen| 31|Female| 54000|2017-02-15|\n",
      "|        013|          106|    Brian Kim| 45|  Male| 75000|2011-07-01|\n",
      "|        014|          107|    Emily Lee| 26|Female| 46000|2019-01-01|\n",
      "|        015|          106|  Michael Lee| 37|  Male| 63000|2014-09-30|\n",
      "|        016|          107|  Kelly Zhang| 30|Female| 49000|2018-04-01|\n",
      "|        017|          105|  George Wang| 34|  Male| 57000|2016-03-15|\n",
      "|        018|          104|    Nancy Liu| 29|Female| 50000|2017-06-01|\n",
      "|        019|          103|  Steven Chen| 36|  Male| 62000|2015-08-01|\n",
      "|        020|          102|    Grace Kim| 32|Female| 53000|2018-11-01|\n",
      "+-----------+-------------+-------------+---+------+------+----------+\n",
      "only showing top 20 rows\n",
      "\n"
     ]
    },
    {
     "name": "stderr",
     "output_type": "stream",
     "text": [
      "                                                                                \r"
     ]
    }
   ],
   "source": [
    "df = spark.table(\"observability.employee\").show(n=20)"
   ]
  },
  {
   "cell_type": "code",
   "execution_count": 25,
   "id": "d8ae6166-e0c1-4158-bd53-37fe7af7576a",
   "metadata": {},
   "outputs": [],
   "source": [
    "engine = create_engine('trino://admin@trino:8080')"
   ]
  },
  {
   "cell_type": "code",
   "execution_count": 26,
   "id": "ce22df39-1a4e-4ef7-8279-005202be2e95",
   "metadata": {},
   "outputs": [
    {
     "data": {
      "text/plain": [
       "<bound method Engine.connect of Engine(trino://admin@trino:8080)>"
      ]
     },
     "execution_count": 26,
     "metadata": {},
     "output_type": "execute_result"
    }
   ],
   "source": [
    "engine.connect"
   ]
  },
  {
   "cell_type": "code",
   "execution_count": 27,
   "id": "11d7e1ce-7425-4602-b689-7464381b9a26",
   "metadata": {},
   "outputs": [
    {
     "name": "stdout",
     "output_type": "stream",
     "text": [
      "('hive',)\n",
      "('iceberg',)\n",
      "('system',)\n",
      "('tpcds',)\n",
      "('tpch',)\n",
      "('unity',)\n"
     ]
    }
   ],
   "source": [
    "with engine.connect() as connection:\n",
    "    result = connection.execute(text('show catalogs'))\n",
    "    for row in result:\n",
    "        print(row)"
   ]
  },
  {
   "cell_type": "code",
   "execution_count": 28,
   "id": "56fa0856-0e3a-49a5-8164-5fc05e034c06",
   "metadata": {},
   "outputs": [
    {
     "name": "stdout",
     "output_type": "stream",
     "text": [
      "('employee',)\n"
     ]
    }
   ],
   "source": [
    "# Show available tables\n",
    "tables_show_sql = f\"\"\"\n",
    "show tables from iceberg.observability\n",
    "\"\"\"\n",
    "with engine.connect() as connection:\n",
    "    result = connection.execute(text(tables_show_sql))\n",
    "    for row in result:\n",
    "        print(row)"
   ]
  },
  {
   "cell_type": "code",
   "execution_count": 29,
   "id": "72573737-5a8f-4174-b66b-1fd27f90e4dc",
   "metadata": {},
   "outputs": [
    {
     "name": "stdout",
     "output_type": "stream",
     "text": [
      "\n",
      "select * from iceberg.observability.employee\n",
      "\n",
      "('019', '103', 'Steven Chen', '36', 'Male', '62000', '2015-08-01')\n",
      "('020', '102', 'Grace Kim', '32', 'Female', '53000', '2018-11-01')\n",
      "('022', '108', 'Jey Paulraj2', '32', 'Female', '53000', '2018-11-01')\n",
      "('019', '103', 'Steven Chen', '36', 'Male', '62000', '2015-08-01')\n",
      "('020', '102', 'Grace Kim', '32', 'Female', '53000', '2018-11-01')\n",
      "('022', '108', 'Jey Paulraj2', '32', 'Female', '53000', '2018-11-01')\n",
      "('017', '105', 'George Wang', '34', 'Male', '57000', '2016-03-15')\n",
      "('009', '103', 'Tom Tan', '33', 'Male', '58000', '2016-06-01')\n",
      "('010', '104', 'Lisa Lee', '27', 'Female', '47000', '2018-08-01')\n",
      "('018', '104', 'Nancy Liu', '29', 'Female', '50000', '2017-06-01')\n",
      "('001', '101', 'John Doe', '30', 'Male', '50000', '2015-01-01')\n",
      "('017', '105', 'George Wang', '34', 'Male', '57000', '2016-03-15')\n",
      "('002', '101', 'Jane Smith', '25', 'Female', '45000', '2016-02-15')\n",
      "('003', '102', 'Bob Brown', '35', 'Male', '55000', '2014-05-01')\n",
      "('018', '104', 'Nancy Liu', '29', 'Female', '50000', '2017-06-01')\n",
      "('004', '102', 'Alice Lee', '28', 'Female', '48000', '2017-09-30')\n",
      "('005', '103', 'Jack Chan', '40', 'Male', '60000', '2013-04-01')\n",
      "('011', '104', 'David Park', '38', 'Male', '65000', '2015-11-01')\n",
      "('012', '105', 'Susan Chen', '31', 'Female', '54000', '2017-02-15')\n",
      "('011', '104', 'David Park', '38', 'Male', '65000', '2015-11-01')\n",
      "('012', '105', 'Susan Chen', '31', 'Female', '54000', '2017-02-15')\n",
      "('011', '104', 'David Park', '38', 'Male', '65000', '2015-11-01')\n",
      "('012', '105', 'Susan Chen', '31', 'Female', '54000', '2017-02-15')\n",
      "('013', '106', 'Brian Kim', '45', 'Male', '75000', '2011-07-01')\n",
      "('014', '107', 'Emily Lee', '26', 'Female', '46000', '2019-01-01')\n",
      "('015', '106', 'Michael Lee', '37', 'Male', '63000', '2014-09-30')\n",
      "('001', '101', 'John Doe', '30', 'Male', '50000', '2015-01-01')\n",
      "('002', '101', 'Jane Smith', '25', 'Female', '45000', '2016-02-15')\n",
      "('003', '102', 'Bob Brown', '35', 'Male', '55000', '2014-05-01')\n",
      "('004', '102', 'Alice Lee', '28', 'Female', '48000', '2017-09-30')\n",
      "('005', '103', 'Jack Chan', '40', 'Male', '60000', '2013-04-01')\n",
      "('001', '101', 'John Doe', '30', 'Male', '50000', '2015-01-01')\n",
      "('002', '101', 'Jane Smith', '25', 'Female', '45000', '2016-02-15')\n",
      "('009', '103', 'Tom Tan', '33', 'Male', '58000', '2016-06-01')\n",
      "('010', '104', 'Lisa Lee', '27', 'Female', '47000', '2018-08-01')\n",
      "('011', '104', 'David Park', '38', 'Male', '65000', '2015-11-01')\n",
      "('012', '105', 'Susan Chen', '31', 'Female', '54000', '2017-02-15')\n",
      "('005', '103', 'Jack Chan', '40', 'Male', '60000', '2013-04-01')\n",
      "('006', '103', 'Jill Wong', '32', 'Female', '52000', '2018-07-01')\n",
      "('007', '101', 'James Johnson', '42', 'Male', '70000', '2012-03-15')\n",
      "('008', '102', 'Kate Kim', '29', 'Female', '51000', '2019-10-01')\n",
      "('005', '103', 'Jack Chan', '40', 'Male', '60000', '2013-04-01')\n",
      "('006', '103', 'Jill Wong', '32', 'Female', '52000', '2018-07-01')\n",
      "('007', '101', 'James Johnson', '42', 'Male', '70000', '2012-03-15')\n",
      "('008', '102', 'Kate Kim', '29', 'Female', '51000', '2019-10-01')\n",
      "('005', '103', 'Jack Chan', '40', 'Male', '60000', '2013-04-01')\n",
      "('006', '103', 'Jill Wong', '32', 'Female', '52000', '2018-07-01')\n",
      "('007', '101', 'James Johnson', '42', 'Male', '70000', '2012-03-15')\n",
      "('008', '102', 'Kate Kim', '29', 'Female', '51000', '2019-10-01')\n",
      "('005', '103', 'Jack Chan', '40', 'Male', '60000', '2013-04-01')\n",
      "('006', '103', 'Jill Wong', '32', 'Female', '52000', '2018-07-01')\n",
      "('007', '101', 'James Johnson', '42', 'Male', '70000', '2012-03-15')\n",
      "('008', '102', 'Kate Kim', '29', 'Female', '51000', '2019-10-01')\n",
      "('016', '107', 'Kelly Zhang', '30', 'Female', '49000', '2018-04-01')\n",
      "('017', '105', 'George Wang', '34', 'Male', '57000', '2016-03-15')\n",
      "('018', '104', 'Nancy Liu', '29', 'Female', '50000', '2017-06-01')\n",
      "('019', '103', 'Steven Chen', '36', 'Male', '62000', '2015-08-01')\n",
      "('020', '102', 'Grace Kim', '32', 'Female', '53000', '2018-11-01')\n",
      "('022', '108', 'Jey Paulraj2', '32', 'Female', '53000', '2018-11-01')\n",
      "('013', '106', 'Brian Kim', '45', 'Male', '75000', '2011-07-01')\n",
      "('014', '107', 'Emily Lee', '26', 'Female', '46000', '2019-01-01')\n",
      "('015', '106', 'Michael Lee', '37', 'Male', '63000', '2014-09-30')\n",
      "('016', '107', 'Kelly Zhang', '30', 'Female', '49000', '2018-04-01')\n",
      "('011', '104', 'David Park', '38', 'Male', '65000', '2015-11-01')\n",
      "('012', '105', 'Susan Chen', '31', 'Female', '54000', '2017-02-15')\n",
      "('013', '106', 'Brian Kim', '45', 'Male', '75000', '2011-07-01')\n",
      "('014', '107', 'Emily Lee', '26', 'Female', '46000', '2019-01-01')\n",
      "('015', '106', 'Michael Lee', '37', 'Male', '63000', '2014-09-30')\n",
      "('001', '101', 'John Doe', '30', 'Male', '50000', '2015-01-01')\n",
      "('002', '101', 'Jane Smith', '25', 'Female', '45000', '2016-02-15')\n",
      "('009', '103', 'Tom Tan', '33', 'Male', '58000', '2016-06-01')\n",
      "('010', '104', 'Lisa Lee', '27', 'Female', '47000', '2018-08-01')\n",
      "('011', '104', 'David Park', '38', 'Male', '65000', '2015-11-01')\n",
      "('012', '105', 'Susan Chen', '31', 'Female', '54000', '2017-02-15')\n",
      "('009', '103', 'Tom Tan', '33', 'Male', '58000', '2016-06-01')\n",
      "('010', '104', 'Lisa Lee', '27', 'Female', '47000', '2018-08-01')\n",
      "('001', '101', 'John Doe', '30', 'Male', '50000', '2015-01-01')\n",
      "('002', '101', 'Jane Smith', '25', 'Female', '45000', '2016-02-15')\n",
      "('003', '102', 'Bob Brown', '35', 'Male', '55000', '2014-05-01')\n",
      "('004', '102', 'Alice Lee', '28', 'Female', '48000', '2017-09-30')\n",
      "('005', '103', 'Jack Chan', '40', 'Male', '60000', '2013-04-01')\n",
      "('011', '104', 'David Park', '38', 'Male', '65000', '2015-11-01')\n",
      "('012', '105', 'Susan Chen', '31', 'Female', '54000', '2017-02-15')\n",
      "('016', '107', 'Kelly Zhang', '30', 'Female', '49000', '2018-04-01')\n",
      "('017', '105', 'George Wang', '34', 'Male', '57000', '2016-03-15')\n",
      "('018', '104', 'Nancy Liu', '29', 'Female', '50000', '2017-06-01')\n",
      "('019', '103', 'Steven Chen', '36', 'Male', '62000', '2015-08-01')\n",
      "('020', '102', 'Grace Kim', '32', 'Female', '53000', '2018-11-01')\n",
      "('013', '106', 'Brian Kim', '45', 'Male', '75000', '2011-07-01')\n",
      "('014', '107', 'Emily Lee', '26', 'Female', '46000', '2019-01-01')\n",
      "('015', '106', 'Michael Lee', '37', 'Male', '63000', '2014-09-30')\n",
      "('016', '107', 'Kelly Zhang', '30', 'Female', '49000', '2018-04-01')\n",
      "('011', '104', 'David Park', '38', 'Male', '65000', '2015-11-01')\n",
      "('012', '105', 'Susan Chen', '31', 'Female', '54000', '2017-02-15')\n",
      "('013', '106', 'Brian Kim', '45', 'Male', '75000', '2011-07-01')\n",
      "('014', '107', 'Emily Lee', '26', 'Female', '46000', '2019-01-01')\n",
      "('015', '106', 'Michael Lee', '37', 'Male', '63000', '2014-09-30')\n",
      "('005', '103', 'Jack Chan', '40', 'Male', '60000', '2013-04-01')\n",
      "('006', '103', 'Jill Wong', '32', 'Female', '52000', '2018-07-01')\n",
      "('007', '101', 'James Johnson', '42', 'Male', '70000', '2012-03-15')\n",
      "('008', '102', 'Kate Kim', '29', 'Female', '51000', '2019-10-01')\n",
      "('005', '103', 'Jack Chan', '40', 'Male', '60000', '2013-04-01')\n",
      "('006', '103', 'Jill Wong', '32', 'Female', '52000', '2018-07-01')\n",
      "('007', '101', 'James Johnson', '42', 'Male', '70000', '2012-03-15')\n",
      "('008', '102', 'Kate Kim', '29', 'Female', '51000', '2019-10-01')\n",
      "('003', '102', 'Bob Brown', '35', 'Male', '55000', '2014-05-01')\n",
      "('004', '102', 'Alice Lee', '28', 'Female', '48000', '2017-09-30')\n",
      "('017', '105', 'George Wang', '34', 'Male', '57000', '2016-03-15')\n",
      "('018', '104', 'Nancy Liu', '29', 'Female', '50000', '2017-06-01')\n",
      "('016', '107', 'Kelly Zhang', '30', 'Female', '49000', '2018-04-01')\n",
      "('001', '101', 'John Doe', '30', 'Male', '50000', '2015-01-01')\n",
      "('002', '101', 'Jane Smith', '25', 'Female', '45000', '2016-02-15')\n",
      "('017', '105', 'George Wang', '34', 'Male', '57000', '2016-03-15')\n",
      "('018', '104', 'Nancy Liu', '29', 'Female', '50000', '2017-06-01')\n",
      "('019', '103', 'Steven Chen', '36', 'Male', '62000', '2015-08-01')\n",
      "('020', '102', 'Grace Kim', '32', 'Female', '53000', '2018-11-01')\n",
      "('022', '108', 'Jey Paulraj2', '32', 'Female', '53000', '2018-11-01')\n",
      "('003', '102', 'Bob Brown', '35', 'Male', '55000', '2014-05-01')\n",
      "('004', '102', 'Alice Lee', '28', 'Female', '48000', '2017-09-30')\n",
      "('017', '105', 'George Wang', '34', 'Male', '57000', '2016-03-15')\n",
      "('018', '104', 'Nancy Liu', '29', 'Female', '50000', '2017-06-01')\n",
      "('019', '103', 'Steven Chen', '36', 'Male', '62000', '2015-08-01')\n",
      "('020', '102', 'Grace Kim', '32', 'Female', '53000', '2018-11-01')\n",
      "('022', '108', 'Jey Paulraj2', '32', 'Female', '53000', '2018-11-01')\n",
      "('003', '102', 'Bob Brown', '35', 'Male', '55000', '2014-05-01')\n",
      "('009', '103', 'Tom Tan', '33', 'Male', '58000', '2016-06-01')\n",
      "('010', '104', 'Lisa Lee', '27', 'Female', '47000', '2018-08-01')\n",
      "('017', '105', 'George Wang', '34', 'Male', '57000', '2016-03-15')\n",
      "('004', '102', 'Alice Lee', '28', 'Female', '48000', '2017-09-30')\n",
      "('018', '104', 'Nancy Liu', '29', 'Female', '50000', '2017-06-01')\n",
      "('013', '106', 'Brian Kim', '45', 'Male', '75000', '2011-07-01')\n",
      "('014', '107', 'Emily Lee', '26', 'Female', '46000', '2019-01-01')\n",
      "('015', '106', 'Michael Lee', '37', 'Male', '63000', '2014-09-30')\n",
      "('016', '107', 'Kelly Zhang', '30', 'Female', '49000', '2018-04-01')\n",
      "('005', '103', 'Jack Chan', '40', 'Male', '60000', '2013-04-01')\n",
      "('006', '103', 'Jill Wong', '32', 'Female', '52000', '2018-07-01')\n",
      "('007', '101', 'James Johnson', '42', 'Male', '70000', '2012-03-15')\n",
      "('008', '102', 'Kate Kim', '29', 'Female', '51000', '2019-10-01')\n",
      "('011', '104', 'David Park', '38', 'Male', '65000', '2015-11-01')\n",
      "('012', '105', 'Susan Chen', '31', 'Female', '54000', '2017-02-15')\n",
      "('011', '104', 'David Park', '38', 'Male', '65000', '2015-11-01')\n",
      "('012', '105', 'Susan Chen', '31', 'Female', '54000', '2017-02-15')\n",
      "('017', '105', 'George Wang', '34', 'Male', '57000', '2016-03-15')\n",
      "('018', '104', 'Nancy Liu', '29', 'Female', '50000', '2017-06-01')\n",
      "('019', '103', 'Steven Chen', '36', 'Male', '62000', '2015-08-01')\n",
      "('020', '102', 'Grace Kim', '32', 'Female', '53000', '2018-11-01')\n",
      "('022', '108', 'Jey Paulraj2', '32', 'Female', '53000', '2018-11-01')\n",
      "('019', '103', 'Steven Chen', '36', 'Male', '62000', '2015-08-01')\n",
      "('020', '102', 'Grace Kim', '32', 'Female', '53000', '2018-11-01')\n",
      "('022', '108', 'Jey Paulraj2', '32', 'Female', '53000', '2018-11-01')\n",
      "('005', '103', 'Jack Chan', '40', 'Male', '60000', '2013-04-01')\n",
      "('006', '103', 'Jill Wong', '32', 'Female', '52000', '2018-07-01')\n",
      "('007', '101', 'James Johnson', '42', 'Male', '70000', '2012-03-15')\n",
      "('008', '102', 'Kate Kim', '29', 'Female', '51000', '2019-10-01')\n",
      "('017', '105', 'George Wang', '34', 'Male', '57000', '2016-03-15')\n",
      "('018', '104', 'Nancy Liu', '29', 'Female', '50000', '2017-06-01')\n",
      "('001', '101', 'John Doe', '30', 'Male', '50000', '2015-01-01')\n",
      "('002', '101', 'Jane Smith', '25', 'Female', '45000', '2016-02-15')\n",
      "('003', '102', 'Bob Brown', '35', 'Male', '55000', '2014-05-01')\n",
      "('004', '102', 'Alice Lee', '28', 'Female', '48000', '2017-09-30')\n",
      "('005', '103', 'Jack Chan', '40', 'Male', '60000', '2013-04-01')\n",
      "('011', '104', 'David Park', '38', 'Male', '65000', '2015-11-01')\n",
      "('012', '105', 'Susan Chen', '31', 'Female', '54000', '2017-02-15')\n",
      "('013', '106', 'Brian Kim', '45', 'Male', '75000', '2011-07-01')\n",
      "('014', '107', 'Emily Lee', '26', 'Female', '46000', '2019-01-01')\n",
      "('015', '106', 'Michael Lee', '37', 'Male', '63000', '2014-09-30')\n",
      "('001', '101', 'John Doe', '30', 'Male', '50000', '2015-01-01')\n",
      "('002', '101', 'Jane Smith', '25', 'Female', '45000', '2016-02-15')\n",
      "('003', '102', 'Bob Brown', '35', 'Male', '55000', '2014-05-01')\n",
      "('004', '102', 'Alice Lee', '28', 'Female', '48000', '2017-09-30')\n",
      "('005', '103', 'Jack Chan', '40', 'Male', '60000', '2013-04-01')\n",
      "('013', '106', 'Brian Kim', '45', 'Male', '75000', '2011-07-01')\n",
      "('014', '107', 'Emily Lee', '26', 'Female', '46000', '2019-01-01')\n",
      "('015', '106', 'Michael Lee', '37', 'Male', '63000', '2014-09-30')\n",
      "('016', '107', 'Kelly Zhang', '30', 'Female', '49000', '2018-04-01')\n",
      "('013', '106', 'Brian Kim', '45', 'Male', '75000', '2011-07-01')\n",
      "('014', '107', 'Emily Lee', '26', 'Female', '46000', '2019-01-01')\n",
      "('011', '104', 'David Park', '38', 'Male', '65000', '2015-11-01')\n",
      "('012', '105', 'Susan Chen', '31', 'Female', '54000', '2017-02-15')\n",
      "('006', '103', 'Jill Wong', '32', 'Female', '52000', '2018-07-01')\n",
      "('007', '101', 'James Johnson', '42', 'Male', '70000', '2012-03-15')\n",
      "('008', '102', 'Kate Kim', '29', 'Female', '51000', '2019-10-01')\n",
      "('009', '103', 'Tom Tan', '33', 'Male', '58000', '2016-06-01')\n",
      "('010', '104', 'Lisa Lee', '27', 'Female', '47000', '2018-08-01')\n",
      "('001', '101', 'John Doe', '30', 'Male', '50000', '2015-01-01')\n",
      "('002', '101', 'Jane Smith', '25', 'Female', '45000', '2016-02-15')\n",
      "('006', '103', 'Jill Wong', '32', 'Female', '52000', '2018-07-01')\n",
      "('007', '101', 'James Johnson', '42', 'Male', '70000', '2012-03-15')\n",
      "('008', '102', 'Kate Kim', '29', 'Female', '51000', '2019-10-01')\n",
      "('009', '103', 'Tom Tan', '33', 'Male', '58000', '2016-06-01')\n",
      "('010', '104', 'Lisa Lee', '27', 'Female', '47000', '2018-08-01')\n",
      "('016', '107', 'Kelly Zhang', '30', 'Female', '49000', '2018-04-01')\n",
      "('001', '101', 'John Doe', '30', 'Male', '50000', '2015-01-01')\n",
      "('011', '104', 'David Park', '38', 'Male', '65000', '2015-11-01')\n",
      "('013', '106', 'Brian Kim', '45', 'Male', '75000', '2011-07-01')\n",
      "('014', '107', 'Emily Lee', '26', 'Female', '46000', '2019-01-01')\n",
      "('015', '106', 'Michael Lee', '37', 'Male', '63000', '2014-09-30')\n",
      "('016', '107', 'Kelly Zhang', '30', 'Female', '49000', '2018-04-01')\n",
      "('017', '105', 'George Wang', '34', 'Male', '57000', '2016-03-15')\n",
      "('018', '104', 'Nancy Liu', '29', 'Female', '50000', '2017-06-01')\n"
     ]
    }
   ],
   "source": [
    "# Query table to verify insertion was successful\n",
    "select_query = f\"\"\"\n",
    "select * from iceberg.observability.employee\n",
    "\"\"\"\n",
    "print(select_query)\n",
    "with engine.connect() as connection:\n",
    "    result = connection.execute(text(select_query)).fetchmany(200)\n",
    "    for row in result:\n",
    "        print(row)"
   ]
  },
  {
   "cell_type": "code",
   "execution_count": 30,
   "id": "6b823f16-8743-477c-af17-2e33a73dda9f",
   "metadata": {},
   "outputs": [],
   "source": [
    "spark.stop()"
   ]
  },
  {
   "cell_type": "code",
   "execution_count": null,
   "id": "f7021784-33a0-46ca-8ed3-ff29674824d5",
   "metadata": {},
   "outputs": [],
   "source": []
  },
  {
   "cell_type": "code",
   "execution_count": null,
   "id": "d303634a-688f-4afb-8833-77bd1461e08d",
   "metadata": {},
   "outputs": [],
   "source": []
  },
  {
   "cell_type": "code",
   "execution_count": null,
   "id": "37a14a02-60ba-47e9-970d-1c3c988a18ab",
   "metadata": {},
   "outputs": [],
   "source": []
  },
  {
   "cell_type": "code",
   "execution_count": null,
   "id": "ff06c6ec-8317-4898-bf84-a2cc4e2ab329",
   "metadata": {},
   "outputs": [],
   "source": []
  }
 ],
 "metadata": {
  "kernelspec": {
   "display_name": "Python 3 (ipykernel)",
   "language": "python",
   "name": "python3"
  },
  "language_info": {
   "codemirror_mode": {
    "name": "ipython",
    "version": 3
   },
   "file_extension": ".py",
   "mimetype": "text/x-python",
   "name": "python",
   "nbconvert_exporter": "python",
   "pygments_lexer": "ipython3",
   "version": "3.9.19"
  }
 },
 "nbformat": 4,
 "nbformat_minor": 5
}
